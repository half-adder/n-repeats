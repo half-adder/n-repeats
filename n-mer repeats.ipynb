{
 "cells": [
  {
   "cell_type": "markdown",
   "metadata": {},
   "source": [
    "# How often do we expect repeats in a given sequence?"
   ]
  },
  {
   "cell_type": "code",
   "execution_count": 106,
   "metadata": {},
   "outputs": [],
   "source": [
    "% matplotlib inline\n",
    "import numpy as np\n",
    "import matplotlib.pyplot as plt\n",
    "from collections import Counter "
   ]
  },
  {
   "cell_type": "code",
   "execution_count": 17,
   "metadata": {},
   "outputs": [],
   "source": [
    "def rand_sequence(length):\n",
    "    \"\"\"Generate a random nucleotide sequence of given length encoded as integers in [0, 4]\"\"\"\n",
    "    idx = np.random.randint(4, size=length)\n",
    "#     return np.asarray([nucleotides[x] for x in idx], dtype='')\n",
    "    return idx"
   ]
  },
  {
   "cell_type": "code",
   "execution_count": 26,
   "metadata": {},
   "outputs": [
    {
     "data": {
      "image/png": "[encoded data removed]",
      "text/plain": [
       "<Figure size 432x288 with 1 Axes>"
      ]
     },
     "metadata": {
      "needs_background": "light"
     },
     "output_type": "display_data"
    }
   ],
   "source": [
    "_ = plt.hist(rand_sequence(100000))"
   ]
  },
  {
   "cell_type": "code",
   "execution_count": null,
   "metadata": {},
   "outputs": [],
   "source": [
    "def find_ngrams(input_list, n):\n",
    "    return zip(*[input_list[i:] for i in range(n)])"
   ]
  },
  {
   "cell_type": "code",
   "execution_count": 90,
   "metadata": {},
   "outputs": [],
   "source": [
    "def n_repeats_sim(seq_len, w_len, trials):\n",
    "    trial_results = []\n",
    "    for i in range(trials):\n",
    "        l = rand_sequence(seq_len)\n",
    "        c = Counter(find_ngrams(l, w_len))\n",
    "\n",
    "        n_repeats = 0\n",
    "        for item in c.items():\n",
    "            if item[1] > 1: \n",
    "                n_repeats += (item[1] - 1)\n",
    "        trial_results.append(n_repeats)\n",
    "    \n",
    "    return np.mean(trial_results)"
   ]
  },
  {
   "cell_type": "code",
   "execution_count": 129,
   "metadata": {},
   "outputs": [],
   "source": [
    "N = 10000\n",
    "t = 10\n",
    "y = []\n",
    "for i in range(1, 20):\n",
    "    y.append(n_repeats_sim(seq_len=N, w_len=i, trials=t))"
   ]
  },
  {
   "cell_type": "code",
   "execution_count": 130,
   "metadata": {},
   "outputs": [
    {
     "data": {
      "image/png": "[encoded data removed]",
      "text/plain": [
       "<Figure size 432x288 with 1 Axes>"
      ]
     },
     "metadata": {
      "needs_background": "light"
     },
     "output_type": "display_data"
    }
   ],
   "source": [
    "fig,ax = plt.subplots()\n",
    "_=plt.scatter(x=range(1,20), y=y)\n",
    "_=plt.xticks(range(1,20))\n",
    "_=ax.set_xlabel('n-mer size')\n",
    "_=ax.set_ylabel('# of repeats')\n",
    "_=fig.suptitle('Number of n-mer repeats in a nucleotide sequence of length %d (%d trials / n-mer)' % (N, t))"
   ]
  },
  {
   "cell_type": "code",
   "execution_count": 131,
   "metadata": {
    "scrolled": true
   },
   "outputs": [
    {
     "data": {
      "text/plain": [
       "[9996.0,\n",
       " 9983.0,\n",
       " 9934.0,\n",
       " 9741.0,\n",
       " 8972.1,\n",
       " 6261.7,\n",
       " 2531.1,\n",
       " 730.8,\n",
       " 191.7,\n",
       " 49.5,\n",
       " 12.5,\n",
       " 3.4,\n",
       " 0.9,\n",
       " 0.0,\n",
       " 0.0,\n",
       " 0.0,\n",
       " 0.0,\n",
       " 0.0,\n",
       " 0.0]"
      ]
     },
     "execution_count": 131,
     "metadata": {},
     "output_type": "execute_result"
    }
   ],
   "source": [
    "y"
   ]
  },
  {
   "cell_type": "code",
   "execution_count": null,
   "metadata": {},
   "outputs": [],
   "source": []
  }
 ],
 "metadata": {
  "kernelspec": {
   "display_name": "Python 3",
   "language": "python",
   "name": "python3"
  },
  "language_info": {
   "codemirror_mode": {
    "name": "ipython",
    "version": 3
   },
   "file_extension": ".py",
   "mimetype": "text/x-python",
   "name": "python",
   "nbconvert_exporter": "python",
   "pygments_lexer": "ipython3",
   "version": "3.7.0"
  }
 },
 "nbformat": 4,
 "nbformat_minor": 2
}
